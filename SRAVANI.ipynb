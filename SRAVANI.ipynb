{
  "cells": [
    {
      "cell_type": "code",
      "execution_count": null,
      "id": "c9e3fe34",
      "metadata": {
        "id": "c9e3fe34",
        "outputId": "e8919867-3567-4530-ce35-839a418f23bf"
      },
      "outputs": [
        {
          "name": "stdout",
          "output_type": "stream",
          "text": [
            "Downloading data from https://storage.googleapis.com/tensorflow/tf-keras-datasets/mnist.npz\n",
            "11490434/11490434 [==============================] - 0s 0us/step\n"
          ]
        }
      ],
      "source": [
        "import numpy as np\n",
        "from keras.datasets import mnist\n",
        "from keras.utils import to_categorical\n",
        "\n",
        "# Load the MNIST dataset\n",
        "(X_train, y_train), (X_test, y_test) = mnist.load_data()\n",
        "\n",
        "# Preprocess the data\n",
        "X_train = X_train.reshape(-1, 28, 28, 1).astype('float32') / 255.0\n",
        "X_test = X_test.reshape(-1, 28, 28, 1).astype('float32') / 255.0\n",
        "\n",
        "y_train = to_categorical(y_train)\n",
        "y_test = to_categorical(y_test)"
      ]
    },
    {
      "cell_type": "code",
      "execution_count": null,
      "id": "930537ae",
      "metadata": {
        "id": "930537ae"
      },
      "outputs": [],
      "source": [
        "from keras.models import Sequential\n",
        "from keras.layers import Conv2D, MaxPooling2D, Flatten, Dense\n",
        "\n",
        "# Build the CNN model\n",
        "model = Sequential([\n",
        "    Conv2D(32, (3, 3), activation='relu', input_shape=(28, 28, 1)),\n",
        "    MaxPooling2D((2, 2)),\n",
        "    Conv2D(64, (3, 3), activation='relu'),\n",
        "    MaxPooling2D((2, 2)),\n",
        "    Flatten(),\n",
        "    Dense(64, activation='relu'),\n",
        "    Dense(10, activation='softmax')\n",
        "])\n",
        "\n",
        "# Compile the model\n",
        "model.compile(optimizer='adam', loss='categorical_crossentropy', metrics=['accuracy'])"
      ]
    },
    {
      "cell_type": "code",
      "execution_count": null,
      "id": "aecb7de4",
      "metadata": {
        "id": "aecb7de4",
        "outputId": "e88359b5-88ff-4489-c9bd-b0ff6b0d3d42"
      },
      "outputs": [
        {
          "name": "stdout",
          "output_type": "stream",
          "text": [
            "Epoch 1/5\n"
          ]
        },
        {
          "name": "stderr",
          "output_type": "stream",
          "text": [
            "2024-04-11 23:40:43.772951: W tensorflow/tsl/platform/profile_utils/cpu_utils.cc:128] Failed to get CPU frequency: 0 Hz\n"
          ]
        },
        {
          "name": "stdout",
          "output_type": "stream",
          "text": [
            "469/469 [==============================] - 7s 14ms/step - loss: 0.2208 - accuracy: 0.9377 - val_loss: 0.0841 - val_accuracy: 0.9744\n",
            "Epoch 2/5\n",
            "469/469 [==============================] - 7s 15ms/step - loss: 0.0595 - accuracy: 0.9819 - val_loss: 0.0432 - val_accuracy: 0.9871\n",
            "Epoch 3/5\n",
            "469/469 [==============================] - 7s 14ms/step - loss: 0.0417 - accuracy: 0.9874 - val_loss: 0.0351 - val_accuracy: 0.9878\n",
            "Epoch 4/5\n",
            "469/469 [==============================] - 7s 14ms/step - loss: 0.0328 - accuracy: 0.9898 - val_loss: 0.0331 - val_accuracy: 0.9892\n",
            "Epoch 5/5\n",
            "469/469 [==============================] - 7s 14ms/step - loss: 0.0259 - accuracy: 0.9918 - val_loss: 0.0327 - val_accuracy: 0.9882\n"
          ]
        }
      ],
      "source": [
        "history = model.fit(X_train, y_train, epochs=5, batch_size=128, validation_data=(X_test, y_test))"
      ]
    },
    {
      "cell_type": "code",
      "execution_count": null,
      "id": "49bad884",
      "metadata": {
        "id": "49bad884",
        "outputId": "ad9f6b4f-cecc-4472-e30f-5b279fa572a6"
      },
      "outputs": [
        {
          "name": "stdout",
          "output_type": "stream",
          "text": [
            "313/313 [==============================] - 1s 2ms/step - loss: 0.0327 - accuracy: 0.9882\n",
            "Test Accuracy: 0.9882000088691711\n"
          ]
        }
      ],
      "source": [
        "test_loss, test_accuracy = model.evaluate(X_test, y_test)\n",
        "print(\"Test Accuracy:\", test_accuracy)"
      ]
    },
    {
      "cell_type": "code",
      "execution_count": null,
      "id": "783b4ea5",
      "metadata": {
        "id": "783b4ea5",
        "outputId": "9f53a987-0953-4ac4-b319-f213c9416f70"
      },
      "outputs": [
        {
          "name": "stderr",
          "output_type": "stream",
          "text": [
            "/Users/prajwalanalluri/anaconda3/lib/python3.11/site-packages/keras/optimizers/legacy/adam.py:117: UserWarning: The `lr` argument is deprecated, use `learning_rate` instead.\n",
            "  super().__init__(name, **kwargs)\n"
          ]
        },
        {
          "name": "stdout",
          "output_type": "stream",
          "text": [
            "Epoch 1/10\n",
            "469/469 [==============================] - 7s 15ms/step - loss: 0.2311 - accuracy: 0.9326 - val_loss: 0.0644 - val_accuracy: 0.9806 - lr: 0.0010\n",
            "Epoch 2/10\n",
            "469/469 [==============================] - 7s 15ms/step - loss: 0.0638 - accuracy: 0.9803 - val_loss: 0.0552 - val_accuracy: 0.9831 - lr: 0.0010\n",
            "Epoch 3/10\n",
            "469/469 [==============================] - 7s 15ms/step - loss: 0.0464 - accuracy: 0.9851 - val_loss: 0.0389 - val_accuracy: 0.9864 - lr: 0.0010\n",
            "Epoch 4/10\n",
            "469/469 [==============================] - 7s 15ms/step - loss: 0.0352 - accuracy: 0.9893 - val_loss: 0.0339 - val_accuracy: 0.9889 - lr: 0.0010\n",
            "Epoch 5/10\n",
            "469/469 [==============================] - 7s 15ms/step - loss: 0.0287 - accuracy: 0.9911 - val_loss: 0.0309 - val_accuracy: 0.9894 - lr: 0.0010\n",
            "Epoch 6/10\n",
            "469/469 [==============================] - 7s 15ms/step - loss: 0.0233 - accuracy: 0.9929 - val_loss: 0.0329 - val_accuracy: 0.9890 - lr: 0.0010\n",
            "Epoch 7/10\n",
            "469/469 [==============================] - 7s 15ms/step - loss: 0.0195 - accuracy: 0.9942 - val_loss: 0.0289 - val_accuracy: 0.9903 - lr: 0.0010\n",
            "Epoch 8/10\n",
            "469/469 [==============================] - 7s 15ms/step - loss: 0.0150 - accuracy: 0.9955 - val_loss: 0.0295 - val_accuracy: 0.9896 - lr: 0.0010\n",
            "Epoch 9/10\n",
            "469/469 [==============================] - 7s 15ms/step - loss: 0.0143 - accuracy: 0.9951 - val_loss: 0.0308 - val_accuracy: 0.9909 - lr: 0.0010\n",
            "Epoch 10/10\n",
            "469/469 [==============================] - 7s 15ms/step - loss: 0.0101 - accuracy: 0.9969 - val_loss: 0.0367 - val_accuracy: 0.9897 - lr: 0.0010\n"
          ]
        }
      ],
      "source": [
        "from keras.optimizers import Adam\n",
        "from keras.callbacks import ReduceLROnPlateau\n",
        "\n",
        "# Define a function for creating the model\n",
        "def create_model(learning_rate=0.001):\n",
        "    model = Sequential([\n",
        "        Conv2D(32, (3, 3), activation='relu', input_shape=(28, 28, 1)),\n",
        "        MaxPooling2D((2, 2)),\n",
        "        Conv2D(64, (3, 3), activation='relu'),\n",
        "        MaxPooling2D((2, 2)),\n",
        "        Flatten(),\n",
        "        Dense(64, activation='relu'),\n",
        "        Dense(10, activation='softmax')\n",
        "    ])\n",
        "    optimizer = Adam(lr=learning_rate)\n",
        "    model.compile(optimizer=optimizer, loss='categorical_crossentropy', metrics=['accuracy'])\n",
        "    return model\n",
        "\n",
        "# Define a function for grid search\n",
        "def grid_search(learning_rates):\n",
        "    results = {}\n",
        "    for lr in learning_rates:\n",
        "        model = create_model(lr)\n",
        "        history = model.fit(X_train, y_train, epochs=5, batch_size=128, validation_data=(X_test, y_test), verbose=0)\n",
        "        results[lr] = history.history\n",
        "    return results\n",
        "\n",
        "# Grid search for learning rates\n",
        "learning_rates = [0.001, 0.01, 0.1]\n",
        "results = grid_search(learning_rates)\n",
        "\n",
        "# Callbacks for learning rate reduction and monitoring validation loss\n",
        "reduce_lr = ReduceLROnPlateau(monitor='val_loss', factor=0.2, patience=3, min_lr=0.0001)\n",
        "\n",
        "# Train the model with callbacks\n",
        "model = create_model(learning_rate=0.001)\n",
        "history = model.fit(X_train, y_train, epochs=10, batch_size=128, validation_data=(X_test, y_test), callbacks=[reduce_lr])"
      ]
    },
    {
      "cell_type": "code",
      "execution_count": null,
      "id": "24f8322c",
      "metadata": {
        "id": "24f8322c"
      },
      "outputs": [],
      "source": []
    }
  ],
  "metadata": {
    "kernelspec": {
      "display_name": "Python 3 (ipykernel)",
      "language": "python",
      "name": "python3"
    },
    "language_info": {
      "codemirror_mode": {
        "name": "ipython",
        "version": 3
      },
      "file_extension": ".py",
      "mimetype": "text/x-python",
      "name": "python",
      "nbconvert_exporter": "python",
      "pygments_lexer": "ipython3",
      "version": "3.11.7"
    },
    "colab": {
      "provenance": []
    }
  },
  "nbformat": 4,
  "nbformat_minor": 5
}